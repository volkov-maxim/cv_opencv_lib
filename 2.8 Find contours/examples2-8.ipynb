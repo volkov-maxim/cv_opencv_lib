{
 "cells": [
  {
   "cell_type": "markdown",
   "id": "91a10e39",
   "metadata": {},
   "source": [
    "Находим контур"
   ]
  },
  {
   "cell_type": "code",
   "execution_count": 3,
   "id": "f96593e2",
   "metadata": {},
   "outputs": [
    {
     "data": {
      "text/plain": [
       "27"
      ]
     },
     "execution_count": 3,
     "metadata": {},
     "output_type": "execute_result"
    }
   ],
   "source": [
    "import cv2\n",
    "import numpy as np\n",
    "\n",
    "img = cv2.imread(\"OpenCV.jpg\")\n",
    "\n",
    "img = cv2.cvtColor(img, cv2.COLOR_BGR2GRAY)\n",
    "img = cv2.GaussianBlur(img, (5, 5), 0)\n",
    "\n",
    "img = cv2.Canny(img, 100, 140)\n",
    "\n",
    "cv2.imshow(\"Result\", img)\n",
    "cv2.waitKey(0)"
   ]
  },
  {
   "cell_type": "markdown",
   "id": "0f309105",
   "metadata": {},
   "source": [
    "Рисуем контур другого цвета на пустом холсте"
   ]
  },
  {
   "cell_type": "code",
   "execution_count": 4,
   "id": "6abc0c74",
   "metadata": {},
   "outputs": [
    {
     "data": {
      "text/plain": [
       "27"
      ]
     },
     "execution_count": 4,
     "metadata": {},
     "output_type": "execute_result"
    }
   ],
   "source": [
    "import cv2\n",
    "import numpy as np\n",
    "\n",
    "img = cv2.imread(\"OpenCV.jpg\")\n",
    "new_img = np.zeros(img.shape, dtype='uint8') # новое полотно \n",
    "\n",
    "img = cv2.cvtColor(img, cv2.COLOR_BGR2GRAY)\n",
    "img = cv2.GaussianBlur(img, (5, 5), 0)\n",
    "\n",
    "img = cv2.Canny(img, 100, 140)\n",
    "\n",
    "con, hier = cv2.findContours(img, cv2.RETR_LIST, cv2.CHAIN_APPROX_NONE)\n",
    "\n",
    "cv2.drawContours(new_img, con, -1, (230, 111, 148), 1) # (полотно, список координат, заливка, цвет, толщина)\n",
    "\n",
    "cv2.imshow(\"Result\", new_img)\n",
    "cv2.waitKey(0)"
   ]
  },
  {
   "cell_type": "markdown",
   "id": "3763f8d1",
   "metadata": {},
   "source": [
    "Находим контур объекта и выделяем объект в прямоугольник. Описание: https://nuancesprog.ru/p/15535/"
   ]
  },
  {
   "cell_type": "code",
   "execution_count": 5,
   "id": "b084b052",
   "metadata": {},
   "outputs": [
    {
     "data": {
      "text/plain": [
       "27"
      ]
     },
     "execution_count": 5,
     "metadata": {},
     "output_type": "execute_result"
    }
   ],
   "source": [
    "import cv2\n",
    "\n",
    "img = cv2.imread(\"OpenCV.jpg\")\n",
    "gray = cv2.cvtColor(img, cv2.COLOR_BGR2GRAY)\n",
    "\n",
    "ret, thresh1 = cv2.threshold(gray, 0, 255, cv2.THRESH_OTSU)\n",
    "    \n",
    "rect_kernel = cv2.getStructuringElement(cv2.MORPH_RECT, (12, 12))\n",
    "\n",
    "dilation = cv2.dilate(thresh1, rect_kernel, iterations = 3)\n",
    "    \n",
    "\n",
    "contours, hierarchy = cv2.findContours(dilation, cv2.RETR_EXTERNAL, cv2.CHAIN_APPROX_NONE)\n",
    "\n",
    "im2 = img.copy()\n",
    "      \n",
    "crop_number=0 \n",
    "for cnt in contours:\n",
    "    x, y, w, h = cv2.boundingRect(cnt)\n",
    "     \n",
    "    # Рисуем ограничительную рамку на текстовой области\n",
    "    rect = cv2.rectangle(im2, (x, y), (x + w, y + h), (0, 255, 0), 2)\n",
    "    \n",
    "    \n",
    "cv2.imshow(\"Result\", im2)\n",
    "cv2.waitKey(0)\n",
    "    "
   ]
  },
  {
   "cell_type": "code",
   "execution_count": null,
   "id": "ebab1404-3500-4848-bfd8-d14caea59058",
   "metadata": {},
   "outputs": [],
   "source": []
  }
 ],
 "metadata": {
  "kernelspec": {
   "display_name": "Python 3 (ipykernel)",
   "language": "python",
   "name": "python3"
  },
  "language_info": {
   "codemirror_mode": {
    "name": "ipython",
    "version": 3
   },
   "file_extension": ".py",
   "mimetype": "text/x-python",
   "name": "python",
   "nbconvert_exporter": "python",
   "pygments_lexer": "ipython3",
   "version": "3.12.6"
  }
 },
 "nbformat": 4,
 "nbformat_minor": 5
}
