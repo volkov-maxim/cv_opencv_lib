{
 "cells": [
  {
   "cell_type": "markdown",
   "id": "2f75a0ff",
   "metadata": {},
   "source": [
    "Создание бегунков для настройки цветого фильтра. Нахождения контура объекта."
   ]
  },
  {
   "cell_type": "code",
   "execution_count": 9,
   "id": "d956fba9",
   "metadata": {},
   "outputs": [
    {
     "name": "stdout",
     "output_type": "stream",
     "text": [
      "hsv_min, hsv_max [114  61   0] [255 255 255]\n"
     ]
    }
   ],
   "source": [
    "import cv2\n",
    "import numpy as np\n",
    "\n",
    "cv2.namedWindow('HSV') # окно настроек HSV\n",
    "cv2.namedWindow('Result') # окно с изображением\n",
    "\n",
    "def callback(*arg):\n",
    "    pass\n",
    "\n",
    "cv2.createTrackbar('h1', 'HSV', 0, 255, callback)\n",
    "cv2.createTrackbar('s1', 'HSV', 0, 255, callback)\n",
    "cv2.createTrackbar('v1', 'HSV', 0, 255, callback)\n",
    "cv2.createTrackbar('h2', 'HSV', 255, 255, callback)\n",
    "cv2.createTrackbar('s2', 'HSV', 255, 255, callback)\n",
    "cv2.createTrackbar('v2', 'HSV', 255, 255, callback)\n",
    "\n",
    "img = cv2.imread('picture1.jpg')\n",
    "hsv = cv2.cvtColor(img, cv2.COLOR_BGR2HSV)\n",
    "color = (0,0,255)\n",
    "text = 'Red'\n",
    "\n",
    "\n",
    "while True:\n",
    "      # Записываем значения бегунков в переменные\n",
    "      h1 = cv2.getTrackbarPos('h1', 'HSV')\n",
    "      s1 = cv2.getTrackbarPos('s1', 'HSV')\n",
    "      v1 = cv2.getTrackbarPos('v1', 'HSV')\n",
    "      h2 = cv2.getTrackbarPos('h2', 'HSV')\n",
    "      s2 = cv2.getTrackbarPos('s2', 'HSV')\n",
    "      v2 = cv2.getTrackbarPos('v2', 'HSV')\n",
    "\n",
    "      # Формируем начальный и конечный цвета фильтра\n",
    "      hsv_min = np.array((h1, s1, v1), np.uint8)\n",
    "      hsv_max = np.array((h2, s2, v2), np.uint8)\n",
    "\n",
    "      # Применим цветовой фильтр к изображению\n",
    "      filter_color = cv2.inRange(hsv, hsv_min, hsv_max)\n",
    "\n",
    "      # Отобразим во втором окне результат\n",
    "      cv2.imshow('Result', filter_color)\n",
    "      \n",
    "      # Когда результат во втором окне нас устоит, нажимаем Esc\n",
    "      # Полученный цветовой фильтр сохраниться в переменную filter_color\n",
    "      if cv2.waitKey(1) == 27:\n",
    "          print(\"hsv_min, hsv_max\", hsv_min, hsv_max)\n",
    "          break\n",
    "\n",
    "con, hir = cv2.findContours(filter_color, cv2.RETR_TREE, cv2.CHAIN_APPROX_SIMPLE)\n",
    "\n",
    "for c in con:\n",
    "    p = cv2.arcLength(c, True) # считаем длину контура\n",
    "        \n",
    "    if p > 1100: # если больше 1100 px\n",
    "        cv2.drawContours(img, [c], -1, color, 5) # рисуем контур\n",
    "        \n",
    "        x, y = c[0][0][0], c[0][0][1] # создим координаты для точки\n",
    "        cv2.circle(img, (x,y), 10, color, -1) # рисуем точку\n",
    "        cv2.putText(img, text, (x-10, y-20), cv2.FONT_HERSHEY_SIMPLEX, 0.8, color, 2, cv2.LINE_AA) # подписываем цвет\n",
    "\n",
    "        \n",
    "cv2.imshow('Image', img)\n",
    "cv2.waitKey(0)\n",
    "cv2.destroyAllWindows()"
   ]
  },
  {
   "cell_type": "code",
   "execution_count": null,
   "id": "02eaaa34-c1c5-452f-89e8-bed6ad89cf2f",
   "metadata": {},
   "outputs": [],
   "source": []
  }
 ],
 "metadata": {
  "kernelspec": {
   "display_name": "Python 3 (ipykernel)",
   "language": "python",
   "name": "python3"
  },
  "language_info": {
   "codemirror_mode": {
    "name": "ipython",
    "version": 3
   },
   "file_extension": ".py",
   "mimetype": "text/x-python",
   "name": "python",
   "nbconvert_exporter": "python",
   "pygments_lexer": "ipython3",
   "version": "3.12.6"
  }
 },
 "nbformat": 4,
 "nbformat_minor": 5
}
