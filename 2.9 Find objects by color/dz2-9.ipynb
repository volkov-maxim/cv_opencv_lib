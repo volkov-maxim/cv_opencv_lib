{
 "cells": [
  {
   "cell_type": "markdown",
   "id": "03b183da",
   "metadata": {},
   "source": [
    "Написать программу, которая выделяет несколько объектов разного цвета. Контур должен быть того же оттенка, что и объект. Добавить подпись цвета. "
   ]
  },
  {
   "cell_type": "code",
   "execution_count": 1,
   "id": "92358f62",
   "metadata": {},
   "outputs": [],
   "source": [
    "import cv2 as cv\n",
    "import numpy as np\n",
    "from collections import namedtuple"
   ]
  },
  {
   "cell_type": "code",
   "execution_count": 2,
   "id": "f0b8e94d-a7c5-433d-9e1e-ee35574ca96f",
   "metadata": {},
   "outputs": [],
   "source": [
    "Color = namedtuple(\"Color\", [\"name\", \"bgr\", \"hsv_min\", \"hsv_max\"])\n",
    "\n",
    "colors = (\n",
    "    Color(\"red\", (0, 0, 255), np.array((114, 61, 47)), np.array((184, 255, 199))),\n",
    "    Color(\"blue\", (146, 77, 15), np.array((10, 94, 0)), np.array((168, 255, 194))),\n",
    "    Color(\"orange\", (0, 69, 255), np.array((0, 182, 0)), np.array((88, 255, 255)))\n",
    ")"
   ]
  },
  {
   "cell_type": "code",
   "execution_count": 3,
   "id": "91f586ef-43d7-4fc8-99e8-bef5a17797db",
   "metadata": {},
   "outputs": [],
   "source": [
    "img = cv.imread('picture1.jpg')\n",
    "hsv = cv.cvtColor(img, cv.COLOR_BGR2HSV)"
   ]
  },
  {
   "cell_type": "code",
   "execution_count": 4,
   "id": "f1536f3b-5118-4952-a3b5-ca3ad32f0f39",
   "metadata": {},
   "outputs": [],
   "source": [
    "for color in colors:\n",
    "    filter_color = cv.inRange(hsv, color.hsv_min, color.hsv_max)\n",
    "    con, hir = cv.findContours(filter_color, cv.RETR_TREE, cv.CHAIN_APPROX_SIMPLE)\n",
    "    \n",
    "    for c in con:\n",
    "        p = cv.arcLength(c, True) # считаем длину контура\n",
    "        if p > 200: # если больше 1100 px\n",
    "            cv.drawContours(img, [c], -1, color.bgr, 5) # рисуем контур\n",
    "            \n",
    "            x, y = c[0][0][0], c[0][0][1] # создадим координаты для точки\n",
    "            cv.circle(img, (x,y), 10, color.bgr, -1) # рисуем точку\n",
    "            cv.putText(\n",
    "                img, color.name, (x-10, y-20), cv.FONT_HERSHEY_SIMPLEX, \n",
    "                0.8, color.bgr, 2, cv.LINE_AA\n",
    "            ) # подписываем цвет\n",
    "\n",
    "cv.imshow('Image', img)\n",
    "cv.waitKey(0)\n",
    "cv.destroyAllWindows()\n",
    "    "
   ]
  },
  {
   "cell_type": "code",
   "execution_count": null,
   "id": "6d85b21a-e51f-4b7a-848f-96714c748ea0",
   "metadata": {},
   "outputs": [],
   "source": []
  }
 ],
 "metadata": {
  "kernelspec": {
   "display_name": "Python 3 (ipykernel)",
   "language": "python",
   "name": "python3"
  },
  "language_info": {
   "codemirror_mode": {
    "name": "ipython",
    "version": 3
   },
   "file_extension": ".py",
   "mimetype": "text/x-python",
   "name": "python",
   "nbconvert_exporter": "python",
   "pygments_lexer": "ipython3",
   "version": "3.12.6"
  }
 },
 "nbformat": 4,
 "nbformat_minor": 5
}
