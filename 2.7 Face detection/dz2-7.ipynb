{
 "cells": [
  {
   "cell_type": "markdown",
   "id": "0d153cbe",
   "metadata": {},
   "source": [
    "Написать программу, которая в реальном времени выделяет лицо, глаза, нос и губы. Используйте веб-камеру."
   ]
  },
  {
   "cell_type": "code",
   "execution_count": 3,
   "id": "3e070145",
   "metadata": {},
   "outputs": [],
   "source": [
    "import cv2 as cv\n",
    "from PIL import Image\n",
    "from IPython.display import display"
   ]
  },
  {
   "cell_type": "code",
   "execution_count": 4,
   "id": "82158635-a54a-426c-a5bd-43e00e2bf47d",
   "metadata": {},
   "outputs": [],
   "source": [
    "face_detector = cv.CascadeClassifier(\"haarcascade_frontalface_default.xml\")\n",
    "eye_detector = cv.CascadeClassifier(\"haarcascade_eye.xml\")\n",
    "smile_detector = cv.CascadeClassifier(\"haarcascade_smile.xml\")"
   ]
  },
  {
   "cell_type": "code",
   "execution_count": 6,
   "id": "d10d76d7-6479-48aa-94b4-9690e59d8787",
   "metadata": {},
   "outputs": [],
   "source": [
    "cap = cv.VideoCapture(0)\n",
    "\n",
    "if not cap.isOpened():\n",
    "  print(\"Cannot open camera\")\n",
    "  exit()\n",
    "\n",
    "while True:\n",
    "  # Capture frame-by-frame\n",
    "  ret, frame = cap.read()\n",
    "\n",
    "  # if frame is read correctly ret is True\n",
    "  if not ret:\n",
    "    print(\"Can't receive frame (stream end?). Exiting ...\")\n",
    "    break\n",
    "\n",
    "  # Our operations on the frame come here\n",
    "  gray = cv.cvtColor(frame, cv.COLOR_BGR2GRAY)\n",
    "  faces = face_detector.detectMultiScale(gray, scaleFactor=1.3, minNeighbors=7)\n",
    "  for x,y,w,h in faces: \n",
    "    cv.rectangle(frame, (x,y), (x+w,y+h), (255,0,0), 2)\n",
    "    roi_color = frame[y:y+h, x:x+w]\n",
    "    roi_gray = gray[y:y+h, x:x+w]\n",
    "    eyes = eye_detector.detectMultiScale(roi_gray, 1.3, 28)\n",
    "    for ex,ey,ew,eh in eyes:\n",
    "      cv.rectangle(roi_color, (ex,ey), (ex+ew, ey+eh), (0,255,0), 2)\n",
    "    smiles = smile_detector.detectMultiScale(roi_gray, 1.2, 28)\n",
    "    for sx,sy,sw,sh in smiles:\n",
    "      cv.rectangle(roi_color, (sx,sy), (sx+sw, sy+sh), (0,255,0), 2)\n",
    "    \n",
    "  \n",
    "  # Display the resulting frame\n",
    "  cv.imshow('frame', frame)\n",
    "  if cv.waitKey(1) == ord('q'):\n",
    "    break\n",
    " \n",
    "# When everything done, release the capture\n",
    "cap.release()\n",
    "cv.destroyAllWindows()"
   ]
  },
  {
   "cell_type": "code",
   "execution_count": null,
   "id": "b5ae4f70-8e33-48ce-b139-5b82fadd3552",
   "metadata": {},
   "outputs": [],
   "source": []
  }
 ],
 "metadata": {
  "kernelspec": {
   "display_name": "Python 3 (ipykernel)",
   "language": "python",
   "name": "python3"
  },
  "language_info": {
   "codemirror_mode": {
    "name": "ipython",
    "version": 3
   },
   "file_extension": ".py",
   "mimetype": "text/x-python",
   "name": "python",
   "nbconvert_exporter": "python",
   "pygments_lexer": "ipython3",
   "version": "3.10.13"
  }
 },
 "nbformat": 4,
 "nbformat_minor": 5
}
