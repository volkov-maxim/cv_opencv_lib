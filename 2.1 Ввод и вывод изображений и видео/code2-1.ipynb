{
 "cells": [
  {
   "cell_type": "code",
   "execution_count": 19,
   "id": "99cc0110-95fb-4027-aad6-065dcf878dd6",
   "metadata": {},
   "outputs": [],
   "source": [
    "import cv2 as cv\n",
    "from IPython.display import clear_output"
   ]
  },
  {
   "cell_type": "markdown",
   "id": "fefba31a-beed-4cfe-a92f-d5e1e24fa846",
   "metadata": {},
   "source": [
    "# Работа с изображением"
   ]
  },
  {
   "cell_type": "code",
   "execution_count": 20,
   "id": "567e175e-b724-4b26-bac1-4bfcdbe3b1ad",
   "metadata": {},
   "outputs": [],
   "source": [
    "img = cv.imread(\"images/photo.jpg\")"
   ]
  },
  {
   "cell_type": "code",
   "execution_count": 21,
   "id": "698a0a09-93ad-43ad-9819-9a57a1726adb",
   "metadata": {},
   "outputs": [],
   "source": [
    "cv.imshow(\"Result\", img)\n",
    "cv.waitKey(2)\n",
    "cv.destroyAllWindows()"
   ]
  },
  {
   "cell_type": "code",
   "execution_count": 6,
   "id": "70403426-66cf-415a-9e8a-97b58be49fa7",
   "metadata": {},
   "outputs": [
    {
     "name": "stdout",
     "output_type": "stream",
     "text": [
      "(5000, 3974, 3)\n"
     ]
    }
   ],
   "source": [
    "print(img.shape)"
   ]
  },
  {
   "cell_type": "code",
   "execution_count": 7,
   "id": "b4f7f0c7-9ffb-43a3-a397-0f7c5c379c10",
   "metadata": {},
   "outputs": [],
   "source": [
    "img = cv.resize(img, (500, 300))"
   ]
  },
  {
   "cell_type": "code",
   "execution_count": 8,
   "id": "2d9ef5c4-afd0-4776-be3c-48d062ea2fd7",
   "metadata": {},
   "outputs": [],
   "source": [
    "img = cv.resize(img, (img.shape[1]//2, img.shape[0]//2))"
   ]
  },
  {
   "cell_type": "markdown",
   "id": "9b368e78-9edd-441f-988c-76c4756db2d3",
   "metadata": {},
   "source": [
    "# Работа с видео"
   ]
  },
  {
   "cell_type": "code",
   "execution_count": 22,
   "id": "122327a9-5baf-4606-821a-6a741de5d35d",
   "metadata": {},
   "outputs": [],
   "source": [
    "cap = cv.VideoCapture(\"videos/video.mp4\")"
   ]
  },
  {
   "cell_type": "code",
   "execution_count": 23,
   "id": "78132449-74dd-4a09-a839-9c6cbc611c99",
   "metadata": {},
   "outputs": [],
   "source": [
    "while True:\n",
    "  success, img = cap.read()\n",
    "  cv.imshow(\"Result\", img)\n",
    "\n",
    "  if cv.waitKey(1) & 0xFF == ord(\"q\"):\n",
    "    break\n",
    "cap.release()\n",
    "cv.destroyAllWindows()"
   ]
  },
  {
   "cell_type": "code",
   "execution_count": 17,
   "id": "f591f11a-d7c2-432b-b131-785ca439ff30",
   "metadata": {},
   "outputs": [
    {
     "data": {
      "text/plain": [
       "True"
      ]
     },
     "execution_count": 17,
     "metadata": {},
     "output_type": "execute_result"
    }
   ],
   "source": [
    "cap = cv.VideoCapture(0)\n",
    "cap.set(3, 500) # ширина\n",
    "cap.set(4, 300) # высота"
   ]
  },
  {
   "cell_type": "code",
   "execution_count": 18,
   "id": "f42102a3-024f-4a38-aca2-a1497e5d9857",
   "metadata": {},
   "outputs": [],
   "source": [
    "while True:\n",
    "  success, img = cap.read()\n",
    "  cv.imshow(\"Result\", img)\n",
    "\n",
    "  if cv.waitKey(1) & 0xFF == ord(\"q\"):\n",
    "    break\n",
    "cap.release()\n",
    "cv.destroyAllWindows()"
   ]
  },
  {
   "cell_type": "code",
   "execution_count": null,
   "id": "093650cf-6c86-4d28-8281-f83d2fdeea60",
   "metadata": {},
   "outputs": [],
   "source": []
  }
 ],
 "metadata": {
  "kernelspec": {
   "display_name": "Python 3 (ipykernel)",
   "language": "python",
   "name": "python3"
  },
  "language_info": {
   "codemirror_mode": {
    "name": "ipython",
    "version": 3
   },
   "file_extension": ".py",
   "mimetype": "text/x-python",
   "name": "python",
   "nbconvert_exporter": "python",
   "pygments_lexer": "ipython3",
   "version": "3.10.13"
  }
 },
 "nbformat": 4,
 "nbformat_minor": 5
}
