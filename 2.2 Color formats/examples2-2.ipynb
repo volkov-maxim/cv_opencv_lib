{
 "cells": [
  {
   "cell_type": "code",
   "execution_count": 10,
   "id": "9d3222cf",
   "metadata": {},
   "outputs": [
    {
     "name": "stdout",
     "output_type": "stream",
     "text": [
      "Requirement already satisfied: opencv-python in c:\\users\\admin\\anaconda3\\lib\\site-packages (4.5.5.64)\n",
      "Requirement already satisfied: numpy>=1.19.3 in c:\\users\\admin\\anaconda3\\lib\\site-packages (from opencv-python) (1.21.5)\n",
      "Note: you may need to restart the kernel to use updated packages.\n"
     ]
    }
   ],
   "source": [
    "pip install opencv-python"
   ]
  },
  {
   "cell_type": "markdown",
   "id": "78f8c5a6",
   "metadata": {},
   "source": [
    "Вывод изображения в сером формате"
   ]
  },
  {
   "cell_type": "code",
   "execution_count": 1,
   "id": "bb0ab573",
   "metadata": {},
   "outputs": [],
   "source": [
    "import cv2\n",
    "\n",
    "img = cv2.imread('fox1.jpg')\n",
    "img = cv2.resize(img, (img.shape[1] // 3 ,img.shape[0] // 3))\n",
    "\n",
    "img = cv2.cvtColor(img, cv2.COLOR_BGR2GRAY)\n",
    "\n",
    "cv2.imshow('Result', img) \n",
    "cv2.waitKey(0) \n",
    "cv2.destroyAllWindows() "
   ]
  },
  {
   "cell_type": "markdown",
   "id": "543a5bc5",
   "metadata": {},
   "source": [
    "Выаод синего слоя изображения"
   ]
  },
  {
   "cell_type": "code",
   "execution_count": 2,
   "id": "0ad0f0e5",
   "metadata": {},
   "outputs": [
    {
     "data": {
      "text/plain": [
       "113"
      ]
     },
     "execution_count": 2,
     "metadata": {},
     "output_type": "execute_result"
    }
   ],
   "source": [
    "import cv2\n",
    "\n",
    "img = cv2.imread(\"fox1.jpg\")\n",
    "img = cv2.resize(img, (img.shape[1] // 3 ,img.shape[0] // 3))\n",
    "\n",
    "b, g, r = cv2.split(img)\n",
    "\n",
    "cv2.imshow(\"Result\", b)\n",
    "cv2.waitKey(0)"
   ]
  },
  {
   "cell_type": "markdown",
   "id": "6ac11170",
   "metadata": {},
   "source": [
    "Вывод нескольких форматов из списка"
   ]
  },
  {
   "cell_type": "code",
   "execution_count": null,
   "id": "c5f592ab",
   "metadata": {},
   "outputs": [],
   "source": [
    "import cv2\n",
    "img = cv2.imread('fox1.jpg')\n",
    "img = cv2.resize(img, (img.shape[1] // 3 ,img.shape[0] // 3))\n",
    "\n",
    "color_spaces = ('RGB','GRAY','HSV','LAB','XYZ','YUV')\n",
    "color_images = []\n",
    "for color in color_spaces:\n",
    "    images = cv2.cvtColor(img, getattr(cv2,'COLOR_BGR2' + color))\n",
    "    color_images.append(images)\n",
    "\n",
    "for i in range (0, len(color_images)-1):\n",
    "    cv2.imshow(color_spaces[i], color_images[i])\n",
    "    cv2.waitKey(0)"
   ]
  },
  {
   "cell_type": "markdown",
   "id": "5ccf80d3",
   "metadata": {},
   "source": [
    "Бинаризация (Изображение по порогу)"
   ]
  },
  {
   "cell_type": "code",
   "execution_count": 34,
   "id": "9d5b05ac",
   "metadata": {},
   "outputs": [],
   "source": [
    "import sys\n",
    "import numpy as np\n",
    "import cv2 as cv\n",
    "fn = \"fox1.jpg\" \n",
    "img = cv.imread(fn)\n",
    "img = cv2.resize(img, (img.shape[1] // 3 ,img.shape[0] // 3))\n",
    "img = cv.cvtColor(img,cv.COLOR_BGR2GRAY)\n",
    "ret, img = cv.threshold(img, 127, 255, 0)\n",
    "cv.imshow('fox', img) \n",
    "cv.waitKey()\n",
    "cv.destroyAllWindows()"
   ]
  }
 ],
 "metadata": {
  "kernelspec": {
   "display_name": "Python 3 (ipykernel)",
   "language": "python",
   "name": "python3"
  },
  "language_info": {
   "codemirror_mode": {
    "name": "ipython",
    "version": 3
   },
   "file_extension": ".py",
   "mimetype": "text/x-python",
   "name": "python",
   "nbconvert_exporter": "python",
   "pygments_lexer": "ipython3",
   "version": "3.10.13"
  }
 },
 "nbformat": 4,
 "nbformat_minor": 5
}
