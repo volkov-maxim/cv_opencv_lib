{
 "cells": [
  {
   "cell_type": "code",
   "execution_count": 2,
   "id": "17d9739d",
   "metadata": {},
   "outputs": [],
   "source": [
    "import cv2"
   ]
  },
  {
   "cell_type": "markdown",
   "id": "ad3a66a2",
   "metadata": {},
   "source": [
    "Размытие"
   ]
  },
  {
   "cell_type": "code",
   "execution_count": 3,
   "id": "ea022c26",
   "metadata": {},
   "outputs": [],
   "source": [
    "blur = cv2.GaussianBlur(img,(3, 3), 0)\n",
    "\n",
    "cv2.imshow('Result', blur) \n",
    "cv2.waitKey(0) \n",
    "cv2.destroyAllWindows() "
   ]
  },
  {
   "cell_type": "markdown",
   "id": "0f79495c",
   "metadata": {},
   "source": [
    "Обрезка фото c вводом данных"
   ]
  },
  {
   "cell_type": "code",
   "execution_count": 17,
   "id": "486f9da9",
   "metadata": {},
   "outputs": [
    {
     "name": "stdout",
     "output_type": "stream",
     "text": [
      "x1 = 10\n",
      "x2 = 500\n",
      "y1 = 10\n",
      "y2 = 500\n"
     ]
    }
   ],
   "source": [
    "img = cv2.imread('fox1.jpg')\n",
    "img = cv2.resize(img, (img.shape[1] // 3 ,img.shape[0] // 3))\n",
    "\n",
    "x1 = int(input('x1 = '))\n",
    "x2 = int(input('x2 = '))\n",
    "y1 = int(input('y1 = '))\n",
    "y2 = int(input('y2 = '))\n",
    "\n",
    "img1 = img[y1:y2, x1:x2]\n",
    "\n",
    "cv2.imshow('Result', img1)\n",
    "cv2.waitKey(0) \n",
    "cv2.destroyAllWindows() "
   ]
  },
  {
   "cell_type": "markdown",
   "id": "c1862234",
   "metadata": {},
   "source": [
    "Вращение фото"
   ]
  },
  {
   "cell_type": "code",
   "execution_count": 8,
   "id": "602149e9",
   "metadata": {},
   "outputs": [],
   "source": [
    "import numpy as np\n",
    "\n",
    "def rotate(img_param, angle): # создадим функцию \n",
    "  height, width = img_param.shape[:2] # возьмём из кортежа shape первые два значения\n",
    "  point = (width // 2, height // 2) # точкой вращения будет центр изображения\n",
    "  mat = cv2.getRotationMatrix2D(point, angle, 1) # создадим матрицу\n",
    "  return cv2.warpAffine(img_param, mat, (width, height)) # вернём перевёрнутое изображение\n",
    "  \n",
    "img2 = rotate(img, -90)\n",
    "\n",
    "cv2.imshow('Result', img2)\n",
    "cv2.waitKey(0) \n",
    "cv2.destroyAllWindows() "
   ]
  }
 ],
 "metadata": {
  "kernelspec": {
   "display_name": "Python 3 (ipykernel)",
   "language": "python",
   "name": "python3"
  },
  "language_info": {
   "codemirror_mode": {
    "name": "ipython",
    "version": 3
   },
   "file_extension": ".py",
   "mimetype": "text/x-python",
   "name": "python",
   "nbconvert_exporter": "python",
   "pygments_lexer": "ipython3",
   "version": "3.9.12"
  }
 },
 "nbformat": 4,
 "nbformat_minor": 5
}
