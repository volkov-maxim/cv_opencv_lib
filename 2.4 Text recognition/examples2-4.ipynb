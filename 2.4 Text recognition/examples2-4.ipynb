{
 "cells": [
  {
   "cell_type": "markdown",
   "id": "6fa6575e",
   "metadata": {},
   "source": [
    "Вывод текста с изображения"
   ]
  },
  {
   "cell_type": "code",
   "execution_count": 1,
   "id": "308f5cbc",
   "metadata": {},
   "outputs": [
    {
     "name": "stdout",
     "output_type": "stream",
     "text": [
      " \n",
      "\n",
      "= в\n",
      "Я у профессора одного жил, который язык звереи изучал. Вот и\n",
      "выучился. Сейчас без языка нельзя. Пропадёшь сразу, или из тебя\n",
      "шапку сделают, или воротник, или просто коврик для ног.\n",
      "\n",
      " \n",
      "\f",
      "\n"
     ]
    }
   ],
   "source": [
    "import pytesseract \n",
    "import cv2\n",
    "\n",
    "image = cv2.imread('text1.jpg')\n",
    "\n",
    "text = pytesseract.image_to_string(image, lang='rus')\n",
    "print(text)\n",
    "\n",
    "cv2.imshow('Input image', image)\n",
    "cv2.waitKey(0)\n",
    "cv2.destroyAllWindows()"
   ]
  },
  {
   "cell_type": "code",
   "execution_count": null,
   "id": "fa386968",
   "metadata": {},
   "outputs": [],
   "source": [
    "Вывод текста с видео"
   ]
  },
  {
   "cell_type": "code",
   "execution_count": 1,
   "id": "3a9ae004",
   "metadata": {},
   "outputs": [
    {
     "name": "stdout",
     "output_type": "stream",
     "text": [
      " \n",
      "\n",
      " \n",
      "\n",
      " \n",
      "\f",
      "\n",
      " \n",
      "\n",
      " \n",
      "\n",
      " \n",
      "\f",
      "\n",
      " \n",
      "\n",
      " \n",
      "\n",
      " \n",
      "\f",
      "\n",
      " \n",
      "\n",
      " \n",
      "\n",
      " \n",
      "\f",
      "\n",
      " \n",
      "\n",
      " \n",
      "\n",
      " \n",
      "\f",
      "\n",
      " \n",
      "\n",
      " \n",
      "\n",
      " \n",
      "\f",
      "\n",
      " \n",
      "\n",
      " \n",
      "\n",
      " \n",
      "\f",
      "\n",
      " \n",
      "\n",
      " \n",
      "\f",
      "\n"
     ]
    },
    {
     "name": "stderr",
     "output_type": "stream",
     "text": [
      "\n",
      "KeyboardInterrupt\n",
      "\n"
     ]
    }
   ],
   "source": [
    "import pytesseract \n",
    "import cv2\n",
    "\n",
    "cap = cv2.VideoCapture('video-text.mp4')\n",
    "\n",
    "c = list(\"“‘'(){}[]?/\\|-_*+!@#№$%^&=;:1234567890~»«.,’\\\"\\\"¥—”¢”°><®\") \n",
    "\n",
    "while True:\n",
    "  success, img = cap.read()  \n",
    "  \n",
    "  text = pytesseract.image_to_string(img, lang='eng')\n",
    "  \n",
    "  for i in range(0, len(c)-1):  \n",
    "    text = text.replace(c[i],\"\") \n",
    "\n",
    "  print(text)\n",
    "\n",
    "  if cv2.waitKey(1) & 0xFF == ord ('q'):  \n",
    "    break"
   ]
  }
 ],
 "metadata": {
  "kernelspec": {
   "display_name": "Python 3 (ipykernel)",
   "language": "python",
   "name": "python3"
  },
  "language_info": {
   "codemirror_mode": {
    "name": "ipython",
    "version": 3
   },
   "file_extension": ".py",
   "mimetype": "text/x-python",
   "name": "python",
   "nbconvert_exporter": "python",
   "pygments_lexer": "ipython3",
   "version": "3.10.13"
  }
 },
 "nbformat": 4,
 "nbformat_minor": 5
}
